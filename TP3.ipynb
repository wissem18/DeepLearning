{
  "nbformat": 4,
  "nbformat_minor": 0,
  "metadata": {
    "colab": {
      "provenance": []
    },
    "kernelspec": {
      "name": "python3",
      "display_name": "Python 3"
    },
    "language_info": {
      "name": "python"
    }
  },
  "cells": [
    {
      "cell_type": "code",
      "source": [
        "!pip install keras"
      ],
      "metadata": {
        "colab": {
          "base_uri": "https://localhost:8080/"
        },
        "id": "aUb12C4WPCXz",
        "outputId": "84de4ac1-c040-4fd7-aa28-efebda40f148",
        "ExecuteTime": {
          "end_time": "2024-05-06T11:38:49.107826Z",
          "start_time": "2024-05-06T11:38:41.299163Z"
        }
      },
      "execution_count": null,
      "outputs": [
        {
          "name": "stdout",
          "output_type": "stream",
          "text": [
            "Requirement already satisfied: keras in c:\\users\\yousf\\anaconda3\\lib\\site-packages (3.1.1)\n",
            "Requirement already satisfied: numpy in c:\\users\\yousf\\anaconda3\\lib\\site-packages (from keras) (1.23.5)\n",
            "Requirement already satisfied: absl-py in c:\\users\\yousf\\anaconda3\\lib\\site-packages (from keras) (2.1.0)\n",
            "Requirement already satisfied: optree in c:\\users\\yousf\\anaconda3\\lib\\site-packages (from keras) (0.11.0)\n",
            "Requirement already satisfied: rich in c:\\users\\yousf\\anaconda3\\lib\\site-packages (from keras) (13.7.1)\n",
            "Requirement already satisfied: namex in c:\\users\\yousf\\anaconda3\\lib\\site-packages (from keras) (0.0.7)\n",
            "Requirement already satisfied: h5py in c:\\users\\yousf\\anaconda3\\lib\\site-packages (from keras) (3.10.0)\n",
            "Requirement already satisfied: ml-dtypes in c:\\users\\yousf\\anaconda3\\lib\\site-packages (from keras) (0.3.2)\n",
            "Requirement already satisfied: typing-extensions>=4.0.0 in c:\\users\\yousf\\anaconda3\\lib\\site-packages (from optree->keras) (4.9.0)\n",
            "Requirement already satisfied: markdown-it-py>=2.2.0 in c:\\users\\yousf\\anaconda3\\lib\\site-packages (from rich->keras) (3.0.0)\n",
            "Requirement already satisfied: pygments<3.0.0,>=2.13.0 in c:\\users\\yousf\\anaconda3\\lib\\site-packages (from rich->keras) (2.17.2)\n",
            "Requirement already satisfied: mdurl~=0.1 in c:\\users\\yousf\\anaconda3\\lib\\site-packages (from markdown-it-py>=2.2.0->rich->keras) (0.1.2)\n"
          ]
        }
      ]
    },
    {
      "cell_type": "code",
      "source": [
        "!pip install np_utils"
      ],
      "metadata": {
        "colab": {
          "base_uri": "https://localhost:8080/"
        },
        "id": "HVdIzQNuPTHs",
        "outputId": "85919fa3-b0c6-47a2-e860-132b19724f76",
        "ExecuteTime": {
          "end_time": "2024-05-06T11:39:00.768275Z",
          "start_time": "2024-05-06T11:38:49.111907Z"
        }
      },
      "execution_count": null,
      "outputs": [
        {
          "name": "stdout",
          "output_type": "stream",
          "text": [
            "Collecting np_utils\n",
            "  Downloading np_utils-0.6.0.tar.gz (61 kB)\n",
            "     -------------------------------------- 62.0/62.0 kB 470.4 kB/s eta 0:00:00\n",
            "  Preparing metadata (setup.py): started\n",
            "  Preparing metadata (setup.py): finished with status 'done'\n",
            "Requirement already satisfied: numpy>=1.0 in c:\\users\\yousf\\anaconda3\\lib\\site-packages (from np_utils) (1.23.5)\n",
            "Building wheels for collected packages: np_utils\n",
            "  Building wheel for np_utils (setup.py): started\n",
            "  Building wheel for np_utils (setup.py): finished with status 'done'\n",
            "  Created wheel for np_utils: filename=np_utils-0.6.0-py3-none-any.whl size=56454 sha256=ebd72ab4fca520ef10c6e2733e0d09f968c521d6370cf6d7c2f1123420266a57\n",
            "  Stored in directory: c:\\users\\yousf\\appdata\\local\\pip\\cache\\wheels\\c9\\5e\\52\\216e2fa9b02d46b865d8160e7fe29dcf98f89a2fb7be254877\n",
            "Successfully built np_utils\n",
            "Installing collected packages: np_utils\n",
            "Successfully installed np_utils-0.6.0\n"
          ]
        }
      ]
    },
    {
      "cell_type": "code",
      "execution_count": 44,
      "metadata": {
        "id": "riDzEp_LNYeT",
        "ExecuteTime": {
          "end_time": "2024-05-06T11:40:33.582219Z",
          "start_time": "2024-05-06T11:40:25.525851Z"
        }
      },
      "outputs": [],
      "source": [
        "import numpy as np\n",
        "import cv2\n",
        "from keras.datasets import mnist\n",
        "from keras import utils as np_utils\n",
        "\n",
        "from keras import backend as K\n",
        "K.set_image_data_format('channels_last')\n",
        "# fix random seed for reproducibility\n",
        "seed = 7\n",
        "np.random.seed(seed)\n",
        "from keras.models import Sequential\n",
        "from keras.layers import Dense\n",
        "from keras.layers import Dropout\n",
        "from keras.layers import Flatten\n",
        "from keras.layers import Conv2D\n",
        "from keras.layers import MaxPooling2D"
      ]
    },
    {
      "cell_type": "code",
      "source": [
        "(X_train, y_train),(X_test, y_test)= mnist.load_data()"
      ],
      "metadata": {
        "id": "5qfIaejdP4EU",
        "ExecuteTime": {
          "end_time": "2024-05-06T11:40:38.139899Z",
          "start_time": "2024-05-06T11:40:37.257714Z"
        }
      },
      "execution_count": 12,
      "outputs": []
    },
    {
      "cell_type": "code",
      "source": [
        "# reshape to be [samples][pixels][width][height]\n",
        "X_train = X_train.reshape(X_train.shape[0], 1, 28,28).astype\n",
        "('float32')\n",
        "X_test = X_test.reshape(X_test.shape[0], 1, 28, 28).astype\n",
        "('float32')"
      ],
      "metadata": {
        "colab": {
          "base_uri": "https://localhost:8080/",
          "height": 35
        },
        "id": "JsaQoXJfQAWa",
        "outputId": "f7f0fa5b-3cbe-4fb1-a79a-153f43007f6b",
        "ExecuteTime": {
          "end_time": "2024-05-06T11:40:40.750138Z",
          "start_time": "2024-05-06T11:40:40.728409Z"
        }
      },
      "execution_count": 13,
      "outputs": [
        {
          "output_type": "execute_result",
          "data": {
            "text/plain": [
              "'float32'"
            ],
            "application/vnd.google.colaboratory.intrinsic+json": {
              "type": "string"
            }
          },
          "metadata": {},
          "execution_count": 13
        }
      ]
    },
    {
      "cell_type": "code",
      "source": [
        "#one hot encode outputs\n",
        "y_train = np_utils.to_categorical(y_train)\n",
        "y_test = np_utils.to_categorical(y_test)\n",
        "num_classes = y_test.shape[1]"
      ],
      "metadata": {
        "id": "aMkrRmZaQk9X",
        "ExecuteTime": {
          "end_time": "2024-05-06T11:40:48.115571Z",
          "start_time": "2024-05-06T11:40:48.095537Z"
        }
      },
      "execution_count": 14,
      "outputs": []
    },
    {
      "cell_type": "code",
      "source": [
        "def get_data_mnist():\n",
        "    # load data\n",
        "    (X_train, y_train), (X_test, y_test) = mnist.load_data()\n",
        "    # reshape to be [samples][pixels][width][height]\n",
        "    X_train = X_train.reshape(X_train.shape[0],  28, 28,1).astype('float32')\n",
        "    X_test = X_test.reshape(X_test.shape[0], 28, 28,1).astype('float32')\n",
        "\n",
        "\n",
        "    # normalize inputs from 0-255 to 0-1\n",
        "    X_train = X_train / 255\n",
        "    X_test = X_test / 255\n",
        "    # one hot encode outputs\n",
        "    y_train = np_utils.to_categorical(y_train)\n",
        "    y_test = np_utils.to_categorical(y_test)\n",
        "    num_classes = y_test.shape[1]\n",
        "    return (X_train, y_train), (X_test, y_test), num_classes\n"
      ],
      "metadata": {
        "id": "7aR8KKlGQ2GP",
        "ExecuteTime": {
          "end_time": "2024-05-06T11:40:53.312926Z",
          "start_time": "2024-05-06T11:40:53.289531Z"
        }
      },
      "execution_count": 24,
      "outputs": []
    },
    {
      "cell_type": "code",
      "source": [
        "\n",
        "def small_model(num_classes):\n",
        "    model = Sequential()\n",
        "\n",
        "    model.add(Conv2D(64, (3, 3), input_shape=( 28, 28,1), activation='relu'))\n",
        "    model.add(Conv2D(32, (3, 3), activation='relu'))\n",
        "\n",
        "    model.add(Flatten())\n",
        "\n",
        "    model.add(Dense(num_classes, activation='softmax'))\n",
        "\n",
        "    model.compile(loss='categorical_crossentropy', optimizer='adam', metrics=['accuracy'])\n",
        "    return model\n",
        "\n",
        "num_classes = 10\n",
        "model = small_model(num_classes)"
      ],
      "metadata": {
        "id": "4zxSCtr1RWcV",
        "ExecuteTime": {
          "end_time": "2024-05-06T11:40:56.646070Z",
          "start_time": "2024-05-06T11:40:56.357736Z"
        }
      },
      "execution_count": 25,
      "outputs": []
    },
    {
      "cell_type": "markdown",
      "source": [],
      "metadata": {
        "id": "qsxwx0QbU0yt"
      }
    },
    {
      "cell_type": "code",
      "source": [
        "model.summary()"
      ],
      "metadata": {
        "colab": {
          "base_uri": "https://localhost:8080/"
        },
        "id": "3X934aKAVcjS",
        "outputId": "7e4f9258-81c3-4d7c-acb9-78321ab36be5",
        "ExecuteTime": {
          "end_time": "2024-05-06T11:41:15.723971Z",
          "start_time": "2024-05-06T11:41:15.678696Z"
        }
      },
      "execution_count": 19,
      "outputs": [
        {
          "output_type": "stream",
          "name": "stdout",
          "text": [
            "Model: \"sequential_2\"\n",
            "_________________________________________________________________\n",
            " Layer (type)                Output Shape              Param #   \n",
            "=================================================================\n",
            " conv2d_3 (Conv2D)           (None, 26, 26, 64)        640       \n",
            "                                                                 \n",
            " conv2d_4 (Conv2D)           (None, 24, 24, 32)        18464     \n",
            "                                                                 \n",
            " flatten_1 (Flatten)         (None, 18432)             0         \n",
            "                                                                 \n",
            " dense_1 (Dense)             (None, 10)                184330    \n",
            "                                                                 \n",
            "=================================================================\n",
            "Total params: 203434 (794.66 KB)\n",
            "Trainable params: 203434 (794.66 KB)\n",
            "Non-trainable params: 0 (0.00 Byte)\n",
            "_________________________________________________________________\n"
          ]
        }
      ]
    },
    {
      "cell_type": "code",
      "source": [
        "(X_train, y_train), (X_test, y_test), num_classes = get_data_mnist()\n",
        "\n",
        "model.fit(X_train, y_train, validation_data=(X_test, y_test), epochs=10, batch_size=200)\n"
      ],
      "metadata": {
        "colab": {
          "base_uri": "https://localhost:8080/"
        },
        "id": "7MIvpBEmRroA",
        "outputId": "c76a62c7-2dfe-483b-9e2a-c199449db021",
        "is_executing": true,
        "ExecuteTime": {
          "start_time": "2024-05-06T11:41:19.029873Z"
        }
      },
      "execution_count": 21,
      "outputs": [
        {
          "output_type": "stream",
          "name": "stdout",
          "text": [
            "Epoch 1/10\n",
            "300/300 [==============================] - 159s 528ms/step - loss: 0.0159 - accuracy: 0.9948 - val_loss: 0.1456 - val_accuracy: 0.9781\n",
            "Epoch 2/10\n",
            "300/300 [==============================] - 150s 500ms/step - loss: 0.0125 - accuracy: 0.9958 - val_loss: 0.1562 - val_accuracy: 0.9746\n",
            "Epoch 3/10\n",
            "300/300 [==============================] - 150s 500ms/step - loss: 0.0086 - accuracy: 0.9971 - val_loss: 0.1392 - val_accuracy: 0.9777\n",
            "Epoch 4/10\n",
            "300/300 [==============================] - 153s 509ms/step - loss: 0.0090 - accuracy: 0.9971 - val_loss: 0.1634 - val_accuracy: 0.9780\n",
            "Epoch 5/10\n",
            "300/300 [==============================] - 152s 506ms/step - loss: 0.0077 - accuracy: 0.9978 - val_loss: 0.1637 - val_accuracy: 0.9782\n",
            "Epoch 6/10\n",
            "300/300 [==============================] - 154s 512ms/step - loss: 0.0109 - accuracy: 0.9967 - val_loss: 0.1810 - val_accuracy: 0.9755\n",
            "Epoch 7/10\n",
            "300/300 [==============================] - 148s 495ms/step - loss: 0.0098 - accuracy: 0.9970 - val_loss: 0.1861 - val_accuracy: 0.9774\n",
            "Epoch 8/10\n",
            "300/300 [==============================] - 154s 513ms/step - loss: 0.0122 - accuracy: 0.9966 - val_loss: 0.1792 - val_accuracy: 0.9777\n",
            "Epoch 9/10\n",
            "300/300 [==============================] - 148s 492ms/step - loss: 0.0089 - accuracy: 0.9972 - val_loss: 0.1739 - val_accuracy: 0.9769\n",
            "Epoch 10/10\n",
            "300/300 [==============================] - 149s 498ms/step - loss: 0.0073 - accuracy: 0.9979 - val_loss: 0.1847 - val_accuracy: 0.9782\n"
          ]
        },
        {
          "output_type": "execute_result",
          "data": {
            "text/plain": [
              "<keras.src.callbacks.History at 0x78426fb1ccd0>"
            ]
          },
          "metadata": {},
          "execution_count": 21
        }
      ]
    },
    {
      "cell_type": "code",
      "source": [
        "def print_model_error_rate(model, X_test, y_test):\n",
        "  # Final evaluation of the model\n",
        "  scores = model.evaluate(X_test, y_test, verbose=0)\n",
        "  print(\"Model score : %.2f%%\" % (scores[1]*100))\n",
        "  print(\"Model error rate : %.2f%%\" % (100-scores[1]*100))\n",
        "#BEFORE NORMALISATION\n",
        "print_model_error_rate(model,X_test,y_test)"
      ],
      "metadata": {
        "colab": {
          "base_uri": "https://localhost:8080/"
        },
        "id": "EdAXsFRwX7_d",
        "outputId": "9ac062dc-bdfc-493e-8440-4c109c2ede5e"
      },
      "execution_count": 22,
      "outputs": [
        {
          "output_type": "stream",
          "name": "stdout",
          "text": [
            "Model score : 97.82%\n",
            "Model error rate : 2.18%\n"
          ]
        }
      ]
    },
    {
      "cell_type": "code",
      "source": [
        "(X_train, y_train), (X_test, y_test), num_classes = get_data_mnist()\n",
        "\n",
        "model.fit(X_train, y_train, validation_data=(X_test, y_test), epochs=10, batch_size=200)\n"
      ],
      "metadata": {
        "colab": {
          "base_uri": "https://localhost:8080/"
        },
        "id": "HucguqrxaK__",
        "outputId": "9efead93-70f6-44f4-831b-7bdd1f19b6b2"
      },
      "execution_count": 26,
      "outputs": [
        {
          "output_type": "stream",
          "name": "stdout",
          "text": [
            "Epoch 1/10\n",
            "300/300 [==============================] - 157s 520ms/step - loss: 0.2280 - accuracy: 0.9366 - val_loss: 0.0643 - val_accuracy: 0.9810\n",
            "Epoch 2/10\n",
            "300/300 [==============================] - 153s 509ms/step - loss: 0.0622 - accuracy: 0.9811 - val_loss: 0.0513 - val_accuracy: 0.9847\n",
            "Epoch 3/10\n",
            "300/300 [==============================] - 156s 519ms/step - loss: 0.0431 - accuracy: 0.9869 - val_loss: 0.0504 - val_accuracy: 0.9842\n",
            "Epoch 4/10\n",
            "300/300 [==============================] - 157s 522ms/step - loss: 0.0319 - accuracy: 0.9898 - val_loss: 0.0417 - val_accuracy: 0.9866\n",
            "Epoch 5/10\n",
            "300/300 [==============================] - 148s 495ms/step - loss: 0.0238 - accuracy: 0.9926 - val_loss: 0.0475 - val_accuracy: 0.9856\n",
            "Epoch 6/10\n",
            "300/300 [==============================] - 150s 500ms/step - loss: 0.0198 - accuracy: 0.9934 - val_loss: 0.0457 - val_accuracy: 0.9865\n",
            "Epoch 7/10\n",
            "300/300 [==============================] - 154s 513ms/step - loss: 0.0147 - accuracy: 0.9957 - val_loss: 0.0469 - val_accuracy: 0.9867\n",
            "Epoch 8/10\n",
            "300/300 [==============================] - 149s 496ms/step - loss: 0.0105 - accuracy: 0.9969 - val_loss: 0.0464 - val_accuracy: 0.9865\n",
            "Epoch 9/10\n",
            "300/300 [==============================] - 154s 512ms/step - loss: 0.0087 - accuracy: 0.9973 - val_loss: 0.0549 - val_accuracy: 0.9862\n",
            "Epoch 10/10\n",
            "300/300 [==============================] - 151s 504ms/step - loss: 0.0069 - accuracy: 0.9978 - val_loss: 0.0551 - val_accuracy: 0.9858\n"
          ]
        },
        {
          "output_type": "execute_result",
          "data": {
            "text/plain": [
              "<keras.src.callbacks.History at 0x784272361b40>"
            ]
          },
          "metadata": {},
          "execution_count": 26
        }
      ]
    },
    {
      "cell_type": "code",
      "source": [
        "#AFTER NORMALISATION\n",
        "print_model_error_rate(model,X_test,y_test)"
      ],
      "metadata": {
        "colab": {
          "base_uri": "https://localhost:8080/"
        },
        "id": "2vwR4x8caPkS",
        "outputId": "52c5b78a-f724-440a-f576-7a08067f5a06"
      },
      "execution_count": 27,
      "outputs": [
        {
          "output_type": "stream",
          "name": "stdout",
          "text": [
            "Model score : 98.58%\n",
            "Model error rate : 1.42%\n"
          ]
        }
      ]
    },
    {
      "cell_type": "code",
      "source": [
        "def medium_model():\n",
        "    # create model\n",
        "    model = Sequential()\n",
        "    model.add(Conv2D(32, (5, 5), input_shape=(28, 28,1), activation='relu'))\n",
        "    model.add(MaxPooling2D(pool_size=(2, 2)))\n",
        "    model.add(Dropout(0.2))\n",
        "    model.add(Flatten())\n",
        "    model.add(Dense(128, activation='relu'))\n",
        "    model.add(Dense(num_classes, activation='softmax'))\n",
        "    # Compile model\n",
        "    model.compile(loss='categorical_crossentropy', optimizer='adam', metrics=['accuracy'])\n",
        "    return model"
      ],
      "metadata": {
        "id": "fn-NCKP5ZuuW"
      },
      "execution_count": 32,
      "outputs": []
    },
    {
      "cell_type": "code",
      "source": [
        "model_medium = medium_model()\n",
        "\n",
        "model_medium.fit(X_train, y_train, validation_data=(X_test, y_test), epochs=10, batch_size=200)\n"
      ],
      "metadata": {
        "colab": {
          "base_uri": "https://localhost:8080/"
        },
        "id": "tpH31bm_aM9w",
        "outputId": "7a0c4cbb-26b9-4909-f585-6708195cfefa"
      },
      "execution_count": 33,
      "outputs": [
        {
          "output_type": "stream",
          "name": "stdout",
          "text": [
            "Epoch 1/10\n",
            "300/300 [==============================] - 35s 113ms/step - loss: 0.2428 - accuracy: 0.9296 - val_loss: 0.0820 - val_accuracy: 0.9753\n",
            "Epoch 2/10\n",
            "300/300 [==============================] - 30s 101ms/step - loss: 0.0744 - accuracy: 0.9779 - val_loss: 0.0575 - val_accuracy: 0.9823\n",
            "Epoch 3/10\n",
            "300/300 [==============================] - 32s 108ms/step - loss: 0.0527 - accuracy: 0.9842 - val_loss: 0.0401 - val_accuracy: 0.9873\n",
            "Epoch 4/10\n",
            "300/300 [==============================] - 31s 102ms/step - loss: 0.0410 - accuracy: 0.9878 - val_loss: 0.0361 - val_accuracy: 0.9879\n",
            "Epoch 5/10\n",
            "300/300 [==============================] - 32s 106ms/step - loss: 0.0339 - accuracy: 0.9892 - val_loss: 0.0370 - val_accuracy: 0.9871\n",
            "Epoch 6/10\n",
            "300/300 [==============================] - 32s 105ms/step - loss: 0.0274 - accuracy: 0.9917 - val_loss: 0.0338 - val_accuracy: 0.9887\n",
            "Epoch 7/10\n",
            "300/300 [==============================] - 31s 102ms/step - loss: 0.0230 - accuracy: 0.9924 - val_loss: 0.0352 - val_accuracy: 0.9884\n",
            "Epoch 8/10\n",
            "300/300 [==============================] - 32s 107ms/step - loss: 0.0195 - accuracy: 0.9939 - val_loss: 0.0334 - val_accuracy: 0.9890\n",
            "Epoch 9/10\n",
            "300/300 [==============================] - 31s 102ms/step - loss: 0.0164 - accuracy: 0.9945 - val_loss: 0.0330 - val_accuracy: 0.9889\n",
            "Epoch 10/10\n",
            "300/300 [==============================] - 31s 105ms/step - loss: 0.0133 - accuracy: 0.9957 - val_loss: 0.0315 - val_accuracy: 0.9899\n"
          ]
        },
        {
          "output_type": "execute_result",
          "data": {
            "text/plain": [
              "<keras.src.callbacks.History at 0x78426c6191b0>"
            ]
          },
          "metadata": {},
          "execution_count": 33
        }
      ]
    },
    {
      "cell_type": "code",
      "source": [
        "print_model_error_rate(model_medium,X_test,y_test)"
      ],
      "metadata": {
        "colab": {
          "base_uri": "https://localhost:8080/"
        },
        "id": "8zcpHVrj83pw",
        "outputId": "c137a2d2-cb54-42b5-f391-0f7a910d6465"
      },
      "execution_count": 34,
      "outputs": [
        {
          "output_type": "stream",
          "name": "stdout",
          "text": [
            "Model score : 98.99%\n",
            "Model error rate : 1.01%\n"
          ]
        }
      ]
    },
    {
      "cell_type": "code",
      "source": [
        "def large_model():\n",
        "    # create model\n",
        "    model = Sequential()\n",
        "    model.add(Conv2D(30, (5, 5), input_shape=(28, 28,1), activation='relu'))\n",
        "    model.add(MaxPooling2D(pool_size=(2, 2)))\n",
        "    model.add(Conv2D(15, (3, 3), activation='relu'))\n",
        "    model.add(MaxPooling2D(pool_size=(2, 2)))\n",
        "    model.add(Dropout(0.2))\n",
        "    model.add(Flatten())\n",
        "    model.add(Dense(128, activation='relu'))\n",
        "    model.add(Dense(50, activation='relu'))\n",
        "    model.add(Dense(num_classes, activation='softmax'))\n",
        "    # Compile model\n",
        "    model.compile(loss='categorical_crossentropy', optimizer='adam', metrics=['accuracy'])\n",
        "    return model"
      ],
      "metadata": {
        "id": "qfwXVx7CavuB"
      },
      "execution_count": 35,
      "outputs": []
    },
    {
      "cell_type": "code",
      "source": [
        "model_large = large_model()\n",
        "\n",
        "model_large.fit(X_train, y_train, validation_data=(X_test, y_test), epochs=10, batch_size=200)\n"
      ],
      "metadata": {
        "colab": {
          "base_uri": "https://localhost:8080/"
        },
        "id": "eAToThQ_bFX8",
        "outputId": "eb025bf9-1a4d-4879-a360-f0c38fad5e0b"
      },
      "execution_count": 36,
      "outputs": [
        {
          "output_type": "stream",
          "name": "stdout",
          "text": [
            "Epoch 1/10\n",
            "300/300 [==============================] - 38s 123ms/step - loss: 0.3595 - accuracy: 0.8885 - val_loss: 0.0792 - val_accuracy: 0.9748\n",
            "Epoch 2/10\n",
            "300/300 [==============================] - 37s 124ms/step - loss: 0.0940 - accuracy: 0.9707 - val_loss: 0.0510 - val_accuracy: 0.9847\n",
            "Epoch 3/10\n",
            "300/300 [==============================] - 35s 118ms/step - loss: 0.0694 - accuracy: 0.9779 - val_loss: 0.0442 - val_accuracy: 0.9859\n",
            "Epoch 4/10\n",
            "300/300 [==============================] - 38s 125ms/step - loss: 0.0572 - accuracy: 0.9814 - val_loss: 0.0380 - val_accuracy: 0.9874\n",
            "Epoch 5/10\n",
            "300/300 [==============================] - 36s 120ms/step - loss: 0.0484 - accuracy: 0.9846 - val_loss: 0.0308 - val_accuracy: 0.9908\n",
            "Epoch 6/10\n",
            "300/300 [==============================] - 35s 115ms/step - loss: 0.0420 - accuracy: 0.9865 - val_loss: 0.0307 - val_accuracy: 0.9897\n",
            "Epoch 7/10\n",
            "300/300 [==============================] - 36s 118ms/step - loss: 0.0368 - accuracy: 0.9880 - val_loss: 0.0296 - val_accuracy: 0.9894\n",
            "Epoch 8/10\n",
            "300/300 [==============================] - 36s 121ms/step - loss: 0.0340 - accuracy: 0.9887 - val_loss: 0.0299 - val_accuracy: 0.9901\n",
            "Epoch 9/10\n",
            "300/300 [==============================] - 38s 126ms/step - loss: 0.0314 - accuracy: 0.9896 - val_loss: 0.0239 - val_accuracy: 0.9928\n",
            "Epoch 10/10\n",
            "300/300 [==============================] - 37s 122ms/step - loss: 0.0288 - accuracy: 0.9905 - val_loss: 0.0237 - val_accuracy: 0.9929\n"
          ]
        },
        {
          "output_type": "execute_result",
          "data": {
            "text/plain": [
              "<keras.src.callbacks.History at 0x78426c537d90>"
            ]
          },
          "metadata": {},
          "execution_count": 36
        }
      ]
    },
    {
      "cell_type": "code",
      "source": [
        "print_model_error_rate(model_large,X_test,y_test)"
      ],
      "metadata": {
        "colab": {
          "base_uri": "https://localhost:8080/"
        },
        "id": "Zx_wJ_A789WQ",
        "outputId": "070ecbe4-f86e-4faa-c08b-ff6a9b4b84da"
      },
      "execution_count": 37,
      "outputs": [
        {
          "output_type": "stream",
          "name": "stdout",
          "text": [
            "Model score : 99.29%\n",
            "Model error rate : 0.71%\n"
          ]
        }
      ]
    },
    {
      "cell_type": "code",
      "source": [
        "from keras.models import model_from_json"
      ],
      "metadata": {
        "id": "XjT_WdURboG6"
      },
      "execution_count": 38,
      "outputs": []
    },
    {
      "cell_type": "code",
      "source": [
        "def save_keras_model(model, filename):\n",
        "  # serialize model to JSON\n",
        "  model_json = model.to_json()\n",
        "  with open(filename+\".json\", \"w\") as json_file:\n",
        "    json_file.write(model_json)\n",
        "  # serialize weights to HDF5\n",
        "  model.save_weights(filename+\".h5\")"
      ],
      "metadata": {
        "id": "MVx-EkRhbS7t"
      },
      "execution_count": 40,
      "outputs": []
    },
    {
      "cell_type": "code",
      "source": [
        "save_keras_model(model,\"small_model\")\n",
        "save_keras_model(model_medium,\"medium_model\")\n",
        "save_keras_model(model_large,\"large_model\")"
      ],
      "metadata": {
        "id": "eLHGjhSQb7fR"
      },
      "execution_count": 41,
      "outputs": []
    },
    {
      "cell_type": "code",
      "source": [
        "def load_keras_model(filename):\n",
        "  # load json and create model\n",
        "  json_file = open(filename+\".json\", 'r')\n",
        "  loaded_model_json = json_file.read()\n",
        "  json_file.close()\n",
        "  loaded_model = model_from_json(loaded_model_json)\n",
        "  # load weights into new model\n",
        "  loaded_model.load_weights(filename+\".h5\")\n",
        "  return loaded_model"
      ],
      "metadata": {
        "id": "3kWTnKA_ciet"
      },
      "execution_count": 42,
      "outputs": []
    },
    {
      "cell_type": "code",
      "source": [
        "small_model=load_keras_model(\"small_model\")\n",
        "small_model.summary()\n",
        "medium_model=load_keras_model(\"medium_model\")\n",
        "medium_model.summary()\n",
        "large_model=load_keras_model(\"large_model\")\n",
        "large_model.summary()"
      ],
      "metadata": {
        "colab": {
          "base_uri": "https://localhost:8080/"
        },
        "id": "II43vsajcmFs",
        "outputId": "10ca36d4-ed5f-444c-8e5c-388f150601a2"
      },
      "execution_count": 43,
      "outputs": [
        {
          "output_type": "stream",
          "name": "stdout",
          "text": [
            "Model: \"sequential_3\"\n",
            "_________________________________________________________________\n",
            " Layer (type)                Output Shape              Param #   \n",
            "=================================================================\n",
            " conv2d_5 (Conv2D)           (None, 26, 26, 64)        640       \n",
            "                                                                 \n",
            " conv2d_6 (Conv2D)           (None, 24, 24, 32)        18464     \n",
            "                                                                 \n",
            " flatten_2 (Flatten)         (None, 18432)             0         \n",
            "                                                                 \n",
            " dense_2 (Dense)             (None, 10)                184330    \n",
            "                                                                 \n",
            "=================================================================\n",
            "Total params: 203434 (794.66 KB)\n",
            "Trainable params: 203434 (794.66 KB)\n",
            "Non-trainable params: 0 (0.00 Byte)\n",
            "_________________________________________________________________\n",
            "Model: \"sequential_5\"\n",
            "_________________________________________________________________\n",
            " Layer (type)                Output Shape              Param #   \n",
            "=================================================================\n",
            " conv2d_8 (Conv2D)           (None, 24, 24, 32)        832       \n",
            "                                                                 \n",
            " max_pooling2d (MaxPooling2  (None, 12, 12, 32)        0         \n",
            " D)                                                              \n",
            "                                                                 \n",
            " dropout (Dropout)           (None, 12, 12, 32)        0         \n",
            "                                                                 \n",
            " flatten_3 (Flatten)         (None, 4608)              0         \n",
            "                                                                 \n",
            " dense_3 (Dense)             (None, 128)               589952    \n",
            "                                                                 \n",
            " dense_4 (Dense)             (None, 10)                1290      \n",
            "                                                                 \n",
            "=================================================================\n",
            "Total params: 592074 (2.26 MB)\n",
            "Trainable params: 592074 (2.26 MB)\n",
            "Non-trainable params: 0 (0.00 Byte)\n",
            "_________________________________________________________________\n",
            "Model: \"sequential_6\"\n",
            "_________________________________________________________________\n",
            " Layer (type)                Output Shape              Param #   \n",
            "=================================================================\n",
            " conv2d_9 (Conv2D)           (None, 24, 24, 30)        780       \n",
            "                                                                 \n",
            " max_pooling2d_1 (MaxPoolin  (None, 12, 12, 30)        0         \n",
            " g2D)                                                            \n",
            "                                                                 \n",
            " conv2d_10 (Conv2D)          (None, 10, 10, 15)        4065      \n",
            "                                                                 \n",
            " max_pooling2d_2 (MaxPoolin  (None, 5, 5, 15)          0         \n",
            " g2D)                                                            \n",
            "                                                                 \n",
            " dropout_1 (Dropout)         (None, 5, 5, 15)          0         \n",
            "                                                                 \n",
            " flatten_4 (Flatten)         (None, 375)               0         \n",
            "                                                                 \n",
            " dense_5 (Dense)             (None, 128)               48128     \n",
            "                                                                 \n",
            " dense_6 (Dense)             (None, 50)                6450      \n",
            "                                                                 \n",
            " dense_7 (Dense)             (None, 10)                510       \n",
            "                                                                 \n",
            "=================================================================\n",
            "Total params: 59933 (234.11 KB)\n",
            "Trainable params: 59933 (234.11 KB)\n",
            "Non-trainable params: 0 (0.00 Byte)\n",
            "_________________________________________________________________\n"
          ]
        }
      ]
    },
    {
      "cell_type": "markdown",
      "source": [
        " Now we can make predictions with our models"
      ],
      "metadata": {
        "id": "eJ2dOuz4PMKq"
      }
    },
    {
      "cell_type": "code",
      "source": [
        "def test(model):\n",
        "  # Load the images and preprocess them\n",
        "  image_files = [f\"/content/images/{i}.jpg\" for i in range(10) ]\n",
        "  images = []\n",
        "\n",
        "  for file in image_files:\n",
        "      img = cv2.imread(file, cv2.IMREAD_GRAYSCALE)  # Load image as grayscale\n",
        "      img = cv2.resize(img, (28, 28))  # Resize the image to match the input shape\n",
        "      img = img.astype('float32') / 255  # Normalize the pixel values\n",
        "      img = np.expand_dims(img, axis=-1)  # Add the channel dimension\n",
        "      images.append(img)\n",
        "\n",
        "  images = np.array(images)\n",
        "\n",
        "  # Make predictions\n",
        "  predictions = model.predict(images)\n",
        "\n",
        "  # Interpret the predictions and get the class labels\n",
        "  predicted_labels = np.argmax(predictions, axis=1)\n",
        "  print(predicted_labels)\n"
      ],
      "metadata": {
        "id": "xTdy8IVrMvhP"
      },
      "execution_count": 55,
      "outputs": []
    },
    {
      "cell_type": "markdown",
      "source": [
        "### Predictions with small model"
      ],
      "metadata": {
        "id": "VHF0e97NMphD"
      }
    },
    {
      "cell_type": "code",
      "source": [
        "test(small_model)"
      ],
      "metadata": {
        "colab": {
          "base_uri": "https://localhost:8080/"
        },
        "id": "XhwEpjXHPYum",
        "outputId": "f552a56b-b853-4ff1-cb88-c34ccfed5510"
      },
      "execution_count": 56,
      "outputs": [
        {
          "output_type": "stream",
          "name": "stdout",
          "text": [
            "1/1 [==============================] - 0s 25ms/step\n",
            "[0 1 2 3 4 5 6 7 8 9]\n"
          ]
        }
      ]
    },
    {
      "cell_type": "markdown",
      "source": [
        "The model correctly predicts all the images of integers from 0 to 9"
      ],
      "metadata": {
        "id": "g3Ow15gDO3Rr"
      }
    },
    {
      "cell_type": "markdown",
      "source": [
        "### Predictions with medium model"
      ],
      "metadata": {
        "id": "3e97qVZsPhiV"
      }
    },
    {
      "cell_type": "code",
      "source": [
        "test(medium_model)"
      ],
      "metadata": {
        "colab": {
          "base_uri": "https://localhost:8080/"
        },
        "id": "4nx2PTmEPltr",
        "outputId": "95bcc66c-72e4-411a-95f1-ebe1b6542f1a"
      },
      "execution_count": 51,
      "outputs": [
        {
          "output_type": "stream",
          "name": "stdout",
          "text": [
            "1/1 [==============================] - 0s 65ms/step\n",
            "[0 1 2 3 4 5 6 7 8 9]\n"
          ]
        }
      ]
    },
    {
      "cell_type": "markdown",
      "source": [
        "The model correctly predicts all the images of integers from 0 to 9"
      ],
      "metadata": {
        "id": "OWhgCQYcPvUo"
      }
    },
    {
      "cell_type": "markdown",
      "source": [
        "### Predictions with large model"
      ],
      "metadata": {
        "id": "WMVY1havPwMA"
      }
    },
    {
      "cell_type": "code",
      "source": [
        "test(large_model)"
      ],
      "metadata": {
        "colab": {
          "base_uri": "https://localhost:8080/"
        },
        "id": "qH8WIoPgPzsi",
        "outputId": "3d93e158-4170-4661-eb8b-23efbd4eeb34"
      },
      "execution_count": 52,
      "outputs": [
        {
          "output_type": "stream",
          "name": "stdout",
          "text": [
            "1/1 [==============================] - 0s 89ms/step\n",
            "[0 1 2 3 4 5 6 7 8 9]\n"
          ]
        }
      ]
    },
    {
      "cell_type": "markdown",
      "source": [
        "The model correctly predicts all the images of integers from 0 to 9"
      ],
      "metadata": {
        "id": "8BF0EugyP8vA"
      }
    }
  ]
}